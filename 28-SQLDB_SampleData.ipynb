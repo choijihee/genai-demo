{
  "cells": [
    {
      "cell_type": "markdown",
      "id": "66ab3cc5-aee4-415a-9391-1e5d37ccaf1d",
      "metadata": {},
      "source": [
        "# Additional Skill: Q&A against a SQL Database (Azure SQL, Azure Fabric, Synapse, SQL Managed Instance, etc)"
      ]
    },
    {
      "cell_type": "markdown",
      "id": "21687888",
      "metadata": {},
      "source": []
    },
    {
      "attachments": {},
      "cell_type": "markdown",
      "id": "306fc0a9-4044-441d-9ba7-f54f32e6ea9f",
      "metadata": {},
      "source": [
        "이 노트북의 목표는 LLM이 사람의 질문을 이해하고 이를 SQL 쿼리로 변환하여 답을 얻는 방법을 보여드리는 것입니다. \n",
        "\n",
        "여기서는 초기 배포 시 생성한 Azure SQL Server를 사용합니다. 그러나 아래의 동일한 코드는 예를 들어 Synapse와 같은 모든 SQL 데이터베이스에서 작동합니다.\n",
        "\n",
        "시작하겠습니다..."
      ]
    },
    {
      "cell_type": "code",
      "execution_count": 2,
      "id": "c1fb79a3-4856-4721-988c-112813690a90",
      "metadata": {
        "gather": {
          "logged": 1714724674921
        }
      },
      "outputs": [],
      "source": [
        "import os\n",
        "import pandas as pd\n",
        "import pyodbc\n",
        "from langchain_community.vectorstores import FAISS\n",
        "from langchain_core.example_selectors import SemanticSimilarityExampleSelector\n",
        "from langchain_openai import OpenAIEmbeddings\n",
        "from langchain_openai import AzureOpenAIEmbeddings\n",
        "from langchain_openai import AzureChatOpenAI\n",
        "from langchain_core.output_parsers import StrOutputParser\n",
        "from langchain_community.agent_toolkits import create_sql_agent, SQLDatabaseToolkit\n",
        "from langchain_community.utilities.sql_database import SQLDatabase\n",
        "\n",
        "from langchain.agents import AgentExecutor\n",
        "from langchain.callbacks.manager import CallbackManager\n",
        "\n",
        "from langchain_core.prompts import (\n",
        "    ChatPromptTemplate,\n",
        "    FewShotPromptTemplate,\n",
        "    MessagesPlaceholder,\n",
        "    PromptTemplate,\n",
        "    SystemMessagePromptTemplate,\n",
        ")\n",
        "\n",
        "from common.prompts import MSSQL_PROMPT, MSSQL_AGENT_PREFIX, MSSQL_AGENT_SUFFIX, MSSQL_AGENT_FORMAT_INSTRUCTIONS\n",
        "\n",
        "from IPython.display import Markdown, HTML, display  \n",
        "\n",
        "from dotenv import load_dotenv\n",
        "load_dotenv(\"credentials.env\")\n",
        "\n",
        "def printmd(string):\n",
        "    display(Markdown(string))"
      ]
    },
    {
      "cell_type": "code",
      "execution_count": 3,
      "id": "258a6e99-2d4f-4147-b8ee-c64c85296181",
      "metadata": {
        "gather": {
          "logged": 1714724682765
        }
      },
      "outputs": [],
      "source": [
        "# Set the ENV variables that Langchain needs to connect to Azure OpenAI\n",
        "os.environ[\"OPENAI_API_VERSION\"] = os.environ[\"AZURE_OPENAI_API_VERSION\"]\n",
        "os.environ[\"LANGCHAIN_TRACING_V2\"]=\"true\"\n",
        "os.environ[\"LANGCHAIN_ENDPOINT\"]=\"https://api.smith.langchain.com\"\n",
        "os.environ[\"LANGCHAIN_API_KEY\"]=\"ls__e98c2cdca9a74a9a9d533904c59aa81e\"\n",
        "os.environ[\"LANGCHAIN_PROJECT\"]=\"skcc-aoai-demo\""
      ]
    },
    {
      "cell_type": "markdown",
      "id": "1e8e0b32-a6b5-4b1c-943d-e57b737213fa",
      "metadata": {},
      "source": [
        "# Install MS SQL DB driver in your machine"
      ]
    },
    {
      "cell_type": "markdown",
      "id": "9a353df6-0966-4e43-a914-6a2856eb140a",
      "metadata": {},
      "source": [
        "\n",
        "You might need the driver installed in order to talk to the SQL DB, so run the below cell once. Then restart the kernel and continue<br>\n",
        "[Reference](https://learn.microsoft.com/en-us/sql/connect/odbc/linux-mac/installing-the-microsoft-odbc-driver-for-sql-server?view=sql-server-ver16&tabs=ubuntu18-install%2Calpine17-install%2Cdebian8-install%2Credhat7-13-install%2Crhel7-offline)"
      ]
    },
    {
      "cell_type": "code",
      "execution_count": null,
      "id": "65fbffc7-e149-4eb3-a4db-9f114b06f205",
      "metadata": {},
      "outputs": [],
      "source": [
        "# !sudo ./download_odbc_driver.sh"
      ]
    },
    {
      "cell_type": "markdown",
      "id": "35e30fa1-877d-4d3b-80b0-e17459c1e4f4",
      "metadata": {},
      "source": [
        "# Load Azure SQL DB with the Azure Billing CSV Data (will be updated)"
      ]
    },
    {
      "cell_type": "markdown",
      "id": "b4352dca-7159-4e41-983d-2c6951cf18db",
      "metadata": {},
      "source": [
        "The Azure SQL Database is currently empty, so we need to fill it up with data. Let's use the same data on the Covid CSV filed we used on the prior Notebook, that way we can compare results and methods. \n",
        "For this, you will need to type below the credentials you used at creation time."
      ]
    },
    {
      "cell_type": "code",
      "execution_count": 4,
      "id": "26739d89-e075-4098-ab38-92cccf9f9425",
      "metadata": {
        "gather": {
          "logged": 1714724691915
        }
      },
      "outputs": [
        {
          "name": "stdout",
          "output_type": "stream",
          "text": [
            "Connection successful!\n",
            "('Microsoft SQL Azure (RTM) - 12.0.2000.8 \\n\\tApr  3 2024 14:04:26 \\n\\tCopyright (C) 2022 Microsoft Corporation\\n',)\n"
          ]
        }
      ],
      "source": [
        "from sqlalchemy import create_engine, text\n",
        "from sqlalchemy.engine import URL\n",
        "import os\n",
        "\n",
        "# Configuration for the database connection\n",
        "db_config = {\n",
        "    'drivername': 'mssql+pyodbc',\n",
        "    'username': os.environ[\"SQL_SERVER_USERNAME\"] + '@' + os.environ[\"SQL_SERVER_NAME\"],\n",
        "    'password': os.environ[\"SQL_SERVER_PASSWORD\"],\n",
        "    'host': os.environ[\"SQL_SERVER_NAME\"],\n",
        "    'port': 1433,\n",
        "    'database': os.environ[\"SQL_SERVER_DATABASE\"],\n",
        "    'query': {'driver': 'ODBC Driver 17 for SQL Server'},\n",
        "}\n",
        "\n",
        "# Create a URL object for connecting to the database\n",
        "db_url = URL.create(**db_config)\n",
        "\n",
        "# Connect to the Azure SQL Database using the URL string\n",
        "engine = create_engine(db_url)\n",
        "\n",
        "# Test the connection using the SQLAlchemy 2.0 execution style\n",
        "with engine.connect() as conn:\n",
        "    try:\n",
        "        # Use the text() construct for safer SQL execution\n",
        "        result = conn.execute(text(\"SELECT @@VERSION\"))\n",
        "        version = result.fetchone()\n",
        "        print(\"Connection successful!\")\n",
        "        print(version)\n",
        "    except Exception as e:\n",
        "        print(e)\n"
      ]
    },
    {
      "cell_type": "markdown",
      "id": "33ad46af-11a4-41a6-94af-15509fd9e16c",
      "metadata": {},
      "source": [
        "# Query with LLM"
      ]
    },
    {
      "cell_type": "markdown",
      "id": "ea2ef524-565a-4f28-9955-fce0d01bbe21",
      "metadata": {},
      "source": [
        "**Note**: We are here using Azure SQL, however the same code will work with Synapse, SQL Managed instance, or any other SQL engine. You just need to provide the right values for the ENV variables and it will connect succesfully."
      ]
    },
    {
      "cell_type": "code",
      "execution_count": 5,
      "id": "d2d4fd11",
      "metadata": {
        "gather": {
          "logged": 1714724698543
        }
      },
      "outputs": [],
      "source": [
        "examples = [\n",
        "    {\n",
        "        \"input\": \"Please tell me the total bill amount for jeju-utd.\", \n",
        "        \"query\": \"SELECT CompanyName, SUM(SumBillingPreTaxTotalPerMonth) AS TotalAmount FROM sampledata004_view_001 WHERE CompanyName = 'jeju-utd' GROUP BY CompanyName;\"\n",
        "    },\n",
        "    {\n",
        "        \"input\": \"Please tell me the amount of each services for jeju-utd\", \n",
        "        \"query\": \"SELECT CompanyName, MeterCategory, SUM(SumBillingPreTaxTotalPerMonth) AS Amount FROM sampledata004_view_001 WHERE CompanyName = 'jeju-utd' GROUP BY CompanyName, MeterCategory;\"\n",
        "    }\n",
        "]"
      ]
    },
    {
      "cell_type": "code",
      "execution_count": null,
      "id": "2d681140",
      "metadata": {},
      "outputs": [],
      "source": [
        "#MSSQL_SUFFIX = \"\"\"I should look at the tables in the database to see what I can query. Then I should query the schema of the most relevant tables.\"\"\""
      ]
    },
    {
      "cell_type": "code",
      "execution_count": 6,
      "id": "28184e83",
      "metadata": {
        "gather": {
          "logged": 1714724702556
        }
      },
      "outputs": [],
      "source": [
        "MSSQL_SUFFIX = \"\"\"\n",
        "I should reference the below the schema of views.\n",
        "\n",
        "CREATE VIEW [dbo].[sampledata004_view_001]\n",
        "AS\n",
        "SELECT  EntitlementDescription AS CompanyName, MeterCategory, ChargeStartDate, ChargeEndDate, UsageDate, SUM(BillingPreTaxTotal) AS SumBillingPreTaxTotalPerMonth\n",
        "FROM    [dbo].[sampledata004]\n",
        "GROUP BY EntitlementDescription, MeterCategory, ChargeStartDate, ChargeEndDate, UsageDate\n",
        "GO\n",
        "\n",
        "Column Description\n",
        "- CompanyName : Company Name\n",
        "- MeterCategory : Service Name\n",
        "- ChargeStartDate : Charge Start Date\n",
        "- ChargeEndDate : Charge End Date\n",
        "- UsageDate : Usage Date\n",
        "- BillingPreTaxTotal : Amount\n",
        "\n",
        "\"\"\""
      ]
    },
    {
      "cell_type": "code",
      "execution_count": 7,
      "id": "124ec038",
      "metadata": {
        "gather": {
          "logged": 1714724720803
        }
      },
      "outputs": [],
      "source": [
        "embedder = AzureOpenAIEmbeddings(deployment=os.environ[\"EMBEDDING_DEPLOYMENT_NAME\"], chunk_size=1) "
      ]
    },
    {
      "cell_type": "code",
      "execution_count": 8,
      "id": "28e33d41",
      "metadata": {
        "gather": {
          "logged": 1714724724923
        }
      },
      "outputs": [],
      "source": [
        "example_selector = SemanticSimilarityExampleSelector.from_examples(\n",
        "    examples,\n",
        "    embedder,\n",
        "    FAISS,\n",
        "    k=5,\n",
        "    input_keys=[\"input\"],\n",
        ")\n",
        "\n",
        "few_shot_prompt = FewShotPromptTemplate(\n",
        "    example_selector=example_selector,\n",
        "    example_prompt=PromptTemplate.from_template(\n",
        "        \"User input: {input}\\nSQL query: {query}\"\n",
        "    ),\n",
        "    input_variables=[\"input\", \"dialect\", \"top_k\"],\n",
        "    prefix=MSSQL_PROMPT,\n",
        "    suffix=MSSQL_SUFFIX,\n",
        ")\n",
        "\n",
        "full_prompt = ChatPromptTemplate.from_messages(\n",
        "    [\n",
        "        SystemMessagePromptTemplate(prompt=few_shot_prompt),\n",
        "        (\"human\", \"{input}\"),\n",
        "        MessagesPlaceholder(\"agent_scratchpad\"),\n",
        "    ]\n",
        ")"
      ]
    },
    {
      "cell_type": "code",
      "execution_count": 9,
      "id": "6e4bc1d5",
      "metadata": {
        "gather": {
          "logged": 1714724732487
        }
      },
      "outputs": [
        {
          "name": "stdout",
          "output_type": "stream",
          "text": [
            "System: You are an agent designed to interact with a SQL database.\n",
            "Given an input question, create a syntactically correct mssql query to run, then look at the results of the query and return the answer.\n",
            "Unless the user specifies a specific number of examples they wish to obtain, always limit your query to at most 5 results.\n",
            "You can order the results by a relevant column to return the most interesting examples in the database.\n",
            "Never query for all the columns from a specific table, only ask for the relevant columns given the question.\n",
            "You have access to tools for interacting with the database.\n",
            "Only use the given tools. Only use the information returned by the tools to construct your final answer.\n",
            "You MUST double check your query before executing it. If you get an error while executing a query, rewrite the query and try again.\n",
            "\n",
            "DO NOT make any DML statements (INSERT, UPDATE, DELETE, DROP etc.) to the database.\n",
            "\n",
            "If the question does not seem related to the database, just return \"I don't know\" as the answer.\n",
            "\n",
            "Here are some examples of user inputs and their corresponding SQL queries:\n",
            "\n",
            "User input: Please tell me the total bill amount for jeju-utd.\n",
            "SQL query: SELECT CompanyName, SUM(SumBillingPreTaxTotalPerMonth) AS TotalAmount FROM sampledata004_view_001 WHERE CompanyName = 'jeju-utd' GROUP BY CompanyName;\n",
            "\n",
            "User input: Please tell me the amount of each services for jeju-utd\n",
            "SQL query: SELECT CompanyName, MeterCategory, SUM(SumBillingPreTaxTotalPerMonth) AS Amount FROM sampledata004_view_001 WHERE CompanyName = 'jeju-utd' GROUP BY CompanyName, MeterCategory;\n",
            "\n",
            "\n",
            "I should reference the below the schema of views.\n",
            "\n",
            "CREATE VIEW [dbo].[sampledata004_view_001]\n",
            "AS\n",
            "SELECT  EntitlementDescription AS CompanyName, MeterCategory, ChargeStartDate, ChargeEndDate, UsageDate, SUM(BillingPreTaxTotal) AS SumBillingPreTaxTotalPerMonth\n",
            "FROM    [dbo].[sampledata004]\n",
            "GROUP BY EntitlementDescription, MeterCategory, ChargeStartDate, ChargeEndDate, UsageDate\n",
            "GO\n",
            "\n",
            "Column Description\n",
            "- CompanyName : Company Name\n",
            "- MeterCategory : Service Name\n",
            "- ChargeStartDate : Charge Start Date\n",
            "- ChargeEndDate : Charge End Date\n",
            "- UsageDate : Usage Date\n",
            "- BillingPreTaxTotal : Amount\n",
            "\n",
            "\n",
            "Human: Please tell me the total bill amount of kloudbank.\n"
          ]
        }
      ],
      "source": [
        "# Example formatted prompt\n",
        "prompt_val = full_prompt.invoke(\n",
        "    {\n",
        "        \"input\": \"Please tell me the total bill amount of kloudbank.\",\n",
        "        \"top_k\": 5,\n",
        "        \"dialect\": \"mssql\",\n",
        "        \"agent_scratchpad\": [],\n",
        "    }\n",
        ")\n",
        "print(prompt_val.to_string())"
      ]
    },
    {
      "cell_type": "code",
      "execution_count": 10,
      "id": "7faef3c0-8166-4f3b-a5e3-d30acfd65fd3",
      "metadata": {
        "gather": {
          "logged": 1714724740727
        }
      },
      "outputs": [],
      "source": [
        "llm = AzureChatOpenAI(deployment_name=os.environ[\"GPT35_DEPLOYMENT_NAME\"], temperature=0.5, max_tokens=2000)"
      ]
    },
    {
      "cell_type": "code",
      "execution_count": 11,
      "id": "6cbe650c-9e0a-4209-9595-de13f2f1ee0a",
      "metadata": {
        "gather": {
          "logged": 1714724742410
        }
      },
      "outputs": [],
      "source": [
        "# Let's create the db object\n",
        "db = SQLDatabase.from_uri(db_url)"
      ]
    },
    {
      "cell_type": "code",
      "execution_count": 12,
      "id": "0c3c407d",
      "metadata": {
        "gather": {
          "logged": 1714724744950
        }
      },
      "outputs": [
        {
          "data": {
            "text/plain": [
              "\"[('2024-05-03 08:25:45',)]\""
            ]
          },
          "execution_count": 12,
          "metadata": {},
          "output_type": "execute_result"
        }
      ],
      "source": [
        "db.run(\"select convert(varchar(25), getdate(), 120)\")"
      ]
    },
    {
      "cell_type": "markdown",
      "id": "95052aba-d0c5-4883-a0b6-70c20e236b6a",
      "metadata": {},
      "source": [
        "### SQL Agent"
      ]
    },
    {
      "cell_type": "markdown",
      "id": "eb8b1352-d6d7-4319-a0b8-ae7b9c2fd234",
      "metadata": {},
      "source": [
        "LangChain has a SQL Agent which provides a more flexible way of interacting with SQL Databases than a chain. The main advantages of using the SQL Agent are:\n",
        "\n",
        "    It can answer questions based on the databases’ schema as well as on the databases’ content (like describing a specific table).\n",
        "    It can recover from errors by running a generated query, catching the traceback and regenerating it correctly.\n",
        "    It can query the database as many times as needed to answer the user question.\n",
        "    It will save tokens by only retrieving the schema from relevant tables.\n",
        "\n",
        "To initialize the agent we’ll use the `create_sql_agent` constructor. This agent uses the SQLDatabaseToolkit which contains tools to:\n",
        "\n",
        "    Create and execute queries\n",
        "    Check query syntax\n",
        "    Retrieve table descriptions\n",
        "    … and more"
      ]
    },
    {
      "cell_type": "code",
      "execution_count": 13,
      "id": "a7ae3e1b",
      "metadata": {
        "gather": {
          "logged": 1714724750494
        }
      },
      "outputs": [],
      "source": [
        "agent_with_db = create_sql_agent(\n",
        "    llm=llm,\n",
        "    db=db,\n",
        "    prompt=full_prompt,\n",
        "    verbose=True,\n",
        "    agent_type=\"openai-tools\",\n",
        ")"
      ]
    },
    {
      "cell_type": "code",
      "execution_count": 14,
      "id": "c03bfab6",
      "metadata": {
        "gather": {
          "logged": 1714724773786
        }
      },
      "outputs": [],
      "source": [
        "# Natural Language question (query)\n",
        "QUESTION = \"\"\"please tell me the amount of each services for kloudbank during November,2023 in JSON format. please don't modify the result from database.\"\"\"\n",
        "#QUESTION = \"\"\"please tell me the amount of each company during November,2023 in JSON format. please don't modify the result from database.\"\"\"\n",
        "#QUESTION = \"\"\"please tell me the amount of Virtual Machines per company during November,2023 in JSON format. please don't modify the result from database.\"\"\"\n",
        "#QUESTION = \"\"\"please tell me company lists having usage during November,2023 in JSON format. please don't modify the result from database.\"\"\"\n",
        "#QUESTION = \"\"\"please tell me service lists having usage during November,2023 in JSON format. please don't modify the result from database.\"\"\""
      ]
    },
    {
      "cell_type": "code",
      "execution_count": 15,
      "id": "818354c3",
      "metadata": {
        "gather": {
          "logged": 1714724792548
        }
      },
      "outputs": [
        {
          "name": "stdout",
          "output_type": "stream",
          "text": [
            "\n",
            "\n",
            "\u001b[1m> Entering new SQL Agent Executor chain...\u001b[0m\n",
            "\u001b[32;1m\u001b[1;3m\n",
            "Invoking: `sql_db_query` with `SELECT EntitlementDescription AS CompanyName, MeterCategory, SUM(BillingPreTaxTotal) AS Amount FROM sampledata004 WHERE EntitlementDescription = 'kloudbank' AND YEAR(UsageDate) = 2023 AND MONTH(UsageDate) = 11 GROUP BY EntitlementDescription, MeterCategory`\n",
            "\n",
            "\n",
            "\u001b[0m\u001b[36;1m\u001b[1;3m[('kloudbank', 'Application Gateway', 227775.45434570312), ('kloudbank', 'Automation', None), ('kloudbank', 'Azure DevOps', 134950.8137512207), ('kloudbank', 'Azure Grafana Service', 57748.626708984375), ('kloudbank', 'Azure Kubernetes Service', 141112.28649902344), ('kloudbank', 'Azure Monitor', 18173.12490338087), ('kloudbank', 'Bandwidth', 1333.259159493758), ('kloudbank', 'Container Registry', 63381.885681152344), ('kloudbank', 'Event Hubs', 12446.703186035156), ('kloudbank', 'Load Balancer', 127533.35648602247), ('kloudbank', 'Log Analytics', 159205.0537109375), ('kloudbank', 'Microsoft Defender for Cloud', 421483.69776821136), ('kloudbank', 'Service Bus', 0.043909210595302284), ('kloudbank', 'SQL Database', 6123.086242675781), ('kloudbank', 'Storage', 473344.07879926986), ('kloudbank', 'Virtual Machines', 1668270.3088431358), ('kloudbank', 'Virtual Network', 70045.85597214103)]\u001b[0m\u001b[32;1m\u001b[1;3m\n",
            "Invoking: `sql_db_query_checker` with `SELECT EntitlementDescription AS CompanyName, MeterCategory, SUM(BillingPreTaxTotal) AS Amount FROM sampledata004 WHERE EntitlementDescription = 'kloudbank' AND YEAR(UsageDate) = 2023 AND MONTH(UsageDate) = 11 GROUP BY EntitlementDescription, MeterCategory`\n",
            "\n",
            "\n",
            "\u001b[0m\u001b[36;1m\u001b[1;3mSELECT EntitlementDescription AS CompanyName, MeterCategory, SUM(BillingPreTaxTotal) AS Amount \n",
            "FROM sampledata004 \n",
            "WHERE EntitlementDescription = 'kloudbank' \n",
            "AND YEAR(UsageDate) = 2023 \n",
            "AND MONTH(UsageDate) = 11 \n",
            "GROUP BY EntitlementDescription, MeterCategory;\u001b[0m\u001b[32;1m\u001b[1;3mHere are the amounts for each service used by kloudbank during November, 2023 in JSON format:\n",
            "```json\n",
            "[\n",
            "  {\"CompanyName\": \"kloudbank\", \"MeterCategory\": \"Application Gateway\", \"Amount\": 227775.45434570312},\n",
            "  {\"CompanyName\": \"kloudbank\", \"MeterCategory\": \"Automation\", \"Amount\": null},\n",
            "  {\"CompanyName\": \"kloudbank\", \"MeterCategory\": \"Azure DevOps\", \"Amount\": 134950.8137512207},\n",
            "  {\"CompanyName\": \"kloudbank\", \"MeterCategory\": \"Azure Grafana Service\", \"Amount\": 57748.626708984375},\n",
            "  {\"CompanyName\": \"kloudbank\", \"MeterCategory\": \"Azure Kubernetes Service\", \"Amount\": 141112.28649902344},\n",
            "  {\"CompanyName\": \"kloudbank\", \"MeterCategory\": \"Azure Monitor\", \"Amount\": 18173.12490338087},\n",
            "  {\"CompanyName\": \"kloudbank\", \"MeterCategory\": \"Bandwidth\", \"Amount\": 1333.259159493758},\n",
            "  {\"CompanyName\": \"kloudbank\", \"MeterCategory\": \"Container Registry\", \"Amount\": 63381.885681152344},\n",
            "  {\"CompanyName\": \"kloudbank\", \"MeterCategory\": \"Event Hubs\", \"Amount\": 12446.703186035156},\n",
            "  {\"CompanyName\": \"kloudbank\", \"MeterCategory\": \"Load Balancer\", \"Amount\": 127533.35648602247}\n",
            "]\n",
            "```\u001b[0m\n",
            "\n",
            "\u001b[1m> Finished chain.\u001b[0m\n"
          ]
        }
      ],
      "source": [
        "try:\n",
        "    query_results = agent_with_db.invoke(QUESTION) \n",
        "except Exception as e:\n",
        "    print(e)"
      ]
    },
    {
      "cell_type": "code",
      "execution_count": 15,
      "id": "cb3cc858",
      "metadata": {},
      "outputs": [
        {
          "name": "stdout",
          "output_type": "stream",
          "text": [
            "```json\n",
            "[\n",
            "    {\n",
            "        \"CompanyName\": \"kloudbank\",\n",
            "        \"MeterCategory\": \"Application Gateway\",\n",
            "        \"Amount\": 227775.45434570312\n",
            "    },\n",
            "    {\n",
            "        \"CompanyName\": \"kloudbank\",\n",
            "        \"MeterCategory\": \"Automation\",\n",
            "        \"Amount\": null\n",
            "    },\n",
            "    {\n",
            "        \"CompanyName\": \"kloudbank\",\n",
            "        \"MeterCategory\": \"Azure DevOps\",\n",
            "        \"Amount\": 134950.8137512207\n",
            "    },\n",
            "    {\n",
            "        \"CompanyName\": \"kloudbank\",\n",
            "        \"MeterCategory\": \"Azure Grafana Service\",\n",
            "        \"Amount\": 57748.626708984375\n",
            "    },\n",
            "    {\n",
            "        \"CompanyName\": \"kloudbank\",\n",
            "        \"MeterCategory\": \"Azure Kubernetes Service\",\n",
            "        \"Amount\": 141112.28649902344\n",
            "    },\n",
            "    {\n",
            "        \"CompanyName\": \"kloudbank\",\n",
            "        \"MeterCategory\": \"Azure Monitor\",\n",
            "        \"Amount\": 18173.12490338087\n",
            "    },\n",
            "    {\n",
            "        \"CompanyName\": \"kloudbank\",\n",
            "        \"MeterCategory\": \"Bandwidth\",\n",
            "        \"Amount\": 1333.259159493758\n",
            "    },\n",
            "    {\n",
            "        \"CompanyName\": \"kloudbank\",\n",
            "        \"MeterCategory\": \"Container Registry\",\n",
            "        \"Amount\": 63381.885681152344\n",
            "    },\n",
            "    {\n",
            "        \"CompanyName\": \"kloudbank\",\n",
            "        \"MeterCategory\": \"Event Hubs\",\n",
            "        \"Amount\": 12446.703186035156\n",
            "    },\n",
            "    {\n",
            "        \"CompanyName\": \"kloudbank\",\n",
            "        \"MeterCategory\": \"Load Balancer\",\n",
            "        \"Amount\": 127533.35648602247\n",
            "    }\n",
            "]\n",
            "```\n"
          ]
        }
      ],
      "source": [
        "print(query_results[\"output\"])"
      ]
    },
    {
      "cell_type": "code",
      "execution_count": 16,
      "id": "7f65f92b",
      "metadata": {
        "gather": {
          "logged": 1714724807775
        }
      },
      "outputs": [],
      "source": [
        "template = \"\"\"Answer the question thoroughly, based **ONLY** on the following context(It is JSON format):\n",
        "{context}\n",
        "\n",
        "If the question does not seem related to the context, just return \"I don't know\" as the answer.\n",
        "\n",
        "Question: {question}\n",
        "\"\"\"\n",
        "prompt = ChatPromptTemplate.from_template(template)\n",
        "\n",
        "llm2 = AzureChatOpenAI(deployment_name=os.environ[\"GPT35_DEPLOYMENT_NAME\"], temperature=0.5, max_tokens=2000)\n",
        "\n",
        "output_parser = StrOutputParser()"
      ]
    },
    {
      "cell_type": "code",
      "execution_count": 17,
      "id": "cc854490",
      "metadata": {
        "gather": {
          "logged": 1714724816527
        }
      },
      "outputs": [],
      "source": [
        "#FOLLOW_UP_QUESTION = \"\"\"Which service have the highest billing costs? Plese let me know one service.\"\"\"\n",
        "#FOLLOW_UP_QUESTION = \"\"\"Is the cost of Container Registry higher than Azure Kubernetes Service?\"\"\"\n",
        "FOLLOW_UP_QUESTION = \"\"\"Is the cost of Azure Kubernetes Service higher than Container Registry?\"\"\""
      ]
    },
    {
      "cell_type": "code",
      "execution_count": 18,
      "id": "a4028b25",
      "metadata": {
        "gather": {
          "logged": 1714724821883
        }
      },
      "outputs": [
        {
          "name": "stdout",
          "output_type": "stream",
          "text": [
            "Yes, the cost of Azure Kubernetes Service is higher than Container Registry. The amount for Azure Kubernetes Service is 141112.28649902344, while the amount for Container Registry is 63381.885681152344. Therefore, the cost of Azure Kubernetes Service is significantly higher than Container Registry.\n"
          ]
        }
      ],
      "source": [
        "# Creation of our custom chain\n",
        "chain = prompt | llm2 | output_parser\n",
        "\n",
        "try:\n",
        "    response = chain.invoke({\"question\": FOLLOW_UP_QUESTION, \"context\": query_results[\"output\"]})\n",
        "    print(response)\n",
        "except Exception as e:\n",
        "    print(e)"
      ]
    },
    {
      "cell_type": "code",
      "execution_count": 19,
      "id": "a6e0e438",
      "metadata": {},
      "outputs": [],
      "source": [
        "toolkit = SQLDatabaseToolkit(db=db, llm=llm)\n",
        "\n",
        "agent_with_toolkit = create_sql_agent(\n",
        "    llm=llm,\n",
        "    toolkit=toolkit,\n",
        "    prompt=full_prompt,\n",
        "    verbose=True,\n",
        "    agent_type=\"openai-tools\",\n",
        ")"
      ]
    },
    {
      "cell_type": "code",
      "execution_count": 20,
      "id": "f951292b",
      "metadata": {},
      "outputs": [
        {
          "data": {
            "text/plain": [
              "[QuerySQLDataBaseTool(description=\"Input to this tool is a detailed and correct SQL query, output is a result from the database. If the query is not correct, an error message will be returned. If an error is returned, rewrite the query, check the query, and try again. If you encounter an issue with Unknown column 'xxxx' in 'field list', use sql_db_schema to query the correct table fields.\", db=<langchain_community.utilities.sql_database.SQLDatabase object at 0x7f031182bb20>),\n",
              " InfoSQLDatabaseTool(description='Input to this tool is a comma-separated list of tables, output is the schema and sample rows for those tables. Be sure that the tables actually exist by calling sql_db_list_tables first! Example Input: table1, table2, table3', db=<langchain_community.utilities.sql_database.SQLDatabase object at 0x7f031182bb20>),\n",
              " ListSQLDatabaseTool(db=<langchain_community.utilities.sql_database.SQLDatabase object at 0x7f031182bb20>),\n",
              " QuerySQLCheckerTool(description='Use this tool to double check if your query is correct before executing it. Always use this tool before executing a query with sql_db_query!', db=<langchain_community.utilities.sql_database.SQLDatabase object at 0x7f031182bb20>, llm=AzureChatOpenAI(client=<openai.resources.chat.completions.Completions object at 0x7f03113a92a0>, async_client=<openai.resources.chat.completions.AsyncCompletions object at 0x7f031182baf0>, temperature=0.5, openai_api_key=SecretStr('**********'), openai_proxy='', max_tokens=2000, azure_endpoint='https://aoi-demo-2znp775rdhyvo.openai.azure.com/', deployment_name='gpt-35-turbo-1106', openai_api_version='2023-12-01-preview', openai_api_type='azure'), llm_chain=LLMChain(prompt=PromptTemplate(input_variables=['dialect', 'query'], template='\\n{query}\\nDouble check the {dialect} query above for common mistakes, including:\\n- Using NOT IN with NULL values\\n- Using UNION when UNION ALL should have been used\\n- Using BETWEEN for exclusive ranges\\n- Data type mismatch in predicates\\n- Properly quoting identifiers\\n- Using the correct number of arguments for functions\\n- Casting to the correct data type\\n- Using the proper columns for joins\\n\\nIf there are any of the above mistakes, rewrite the query. If there are no mistakes, just reproduce the original query.\\n\\nOutput the final SQL query only.\\n\\nSQL Query: '), llm=AzureChatOpenAI(client=<openai.resources.chat.completions.Completions object at 0x7f03113a92a0>, async_client=<openai.resources.chat.completions.AsyncCompletions object at 0x7f031182baf0>, temperature=0.5, openai_api_key=SecretStr('**********'), openai_proxy='', max_tokens=2000, azure_endpoint='https://aoi-demo-2znp775rdhyvo.openai.azure.com/', deployment_name='gpt-35-turbo-1106', openai_api_version='2023-12-01-preview', openai_api_type='azure')))]"
            ]
          },
          "execution_count": 20,
          "metadata": {},
          "output_type": "execute_result"
        }
      ],
      "source": [
        "# As we know by now, Agents use expert/tools. Let's see which are the tools for this SQL Agent\n",
        "agent_with_toolkit.tools"
      ]
    },
    {
      "cell_type": "code",
      "execution_count": 21,
      "id": "2e6e2bc9",
      "metadata": {},
      "outputs": [
        {
          "name": "stdout",
          "output_type": "stream",
          "text": [
            "\n",
            "\n",
            "\u001b[1m> Entering new SQL Agent Executor chain...\u001b[0m\n",
            "\u001b[32;1m\u001b[1;3m\n",
            "Invoking: `sql_db_query` with `SELECT CompanyName, MeterCategory, SUM(SumBillingPreTaxTotalPerMonth) AS Amount FROM sampledata004_view_001 WHERE CompanyName = 'kloudbank' AND MONTH(UsageDate) = 11 AND YEAR(UsageDate) = 2023 GROUP BY CompanyName, MeterCategory;`\n",
            "\n",
            "\n",
            "\u001b[0m\u001b[36;1m\u001b[1;3m[('kloudbank', 'Application Gateway', 227775.45434570312), ('kloudbank', 'Automation', None), ('kloudbank', 'Azure DevOps', 134950.8137512207), ('kloudbank', 'Azure Grafana Service', 57748.626708984375), ('kloudbank', 'Azure Kubernetes Service', 141112.28649902344), ('kloudbank', 'Azure Monitor', 18173.12490338087), ('kloudbank', 'Bandwidth', 1333.259159493758), ('kloudbank', 'Container Registry', 63381.885681152344), ('kloudbank', 'Event Hubs', 12446.703186035156), ('kloudbank', 'Load Balancer', 127533.35648602247), ('kloudbank', 'Log Analytics', 159205.0537109375), ('kloudbank', 'Microsoft Defender for Cloud', 421483.69776821136), ('kloudbank', 'Service Bus', 0.043909210595302284), ('kloudbank', 'SQL Database', 6123.086242675781), ('kloudbank', 'Storage', 473344.0787992724), ('kloudbank', 'Virtual Machines', 1668270.3088431358), ('kloudbank', 'Virtual Network', 70045.85597214103)]\u001b[0m\u001b[32;1m\u001b[1;3m```json\n",
            "[\n",
            "  {\n",
            "    \"CompanyName\": \"kloudbank\",\n",
            "    \"MeterCategory\": \"Application Gateway\",\n",
            "    \"Amount\": 227775.45434570312\n",
            "  },\n",
            "  {\n",
            "    \"CompanyName\": \"kloudbank\",\n",
            "    \"MeterCategory\": \"Automation\",\n",
            "    \"Amount\": null\n",
            "  },\n",
            "  {\n",
            "    \"CompanyName\": \"kloudbank\",\n",
            "    \"MeterCategory\": \"Azure DevOps\",\n",
            "    \"Amount\": 134950.8137512207\n",
            "  },\n",
            "  {\n",
            "    \"CompanyName\": \"kloudbank\",\n",
            "    \"MeterCategory\": \"Azure Grafana Service\",\n",
            "    \"Amount\": 57748.626708984375\n",
            "  },\n",
            "  {\n",
            "    \"CompanyName\": \"kloudbank\",\n",
            "    \"MeterCategory\": \"Azure Kubernetes Service\",\n",
            "    \"Amount\": 141112.28649902344\n",
            "  },\n",
            "  {\n",
            "    \"CompanyName\": \"kloudbank\",\n",
            "    \"MeterCategory\": \"Azure Monitor\",\n",
            "    \"Amount\": 18173.12490338087\n",
            "  },\n",
            "  {\n",
            "    \"CompanyName\": \"kloudbank\",\n",
            "    \"MeterCategory\": \"Bandwidth\",\n",
            "    \"Amount\": 1333.259159493758\n",
            "  },\n",
            "  {\n",
            "    \"CompanyName\": \"kloudbank\",\n",
            "    \"MeterCategory\": \"Container Registry\",\n",
            "    \"Amount\": 63381.885681152344\n",
            "  },\n",
            "  {\n",
            "    \"CompanyName\": \"kloudbank\",\n",
            "    \"MeterCategory\": \"Event Hubs\",\n",
            "    \"Amount\": 12446.703186035156\n",
            "  },\n",
            "  {\n",
            "    \"CompanyName\": \"kloudbank\",\n",
            "    \"MeterCategory\": \"Load Balancer\",\n",
            "    \"Amount\": 127533.35648602247\n",
            "  }\n",
            "]\n",
            "```\u001b[0m\n",
            "\n",
            "\u001b[1m> Finished chain.\u001b[0m\n"
          ]
        }
      ],
      "source": [
        "try:\n",
        "    response = agent_with_toolkit.invoke(QUESTION) \n",
        "except Exception as e:\n",
        "    response = str(e)"
      ]
    },
    {
      "cell_type": "code",
      "execution_count": null,
      "id": "92188caa",
      "metadata": {},
      "outputs": [],
      "source": [
        "printmd(response[\"output\"])"
      ]
    },
    {
      "cell_type": "markdown",
      "id": "cfef208f-321c-490e-a50e-e92602daf125",
      "metadata": {},
      "source": [
        "**IMPORTANT NOTE**: If you don't specify the column name on the question, runing the above cell multiple times will yield diferent results some times. <br>\n",
        "The reason is:\n",
        "The column names are ambiguous, hence it is hard even for Humans to discern what are the right columns to use"
      ]
    },
    {
      "cell_type": "markdown",
      "id": "56cbc405-26e2-471e-9626-2a0df07f5ddc",
      "metadata": {},
      "source": [
        "# Summary"
      ]
    },
    {
      "cell_type": "markdown",
      "id": "7381ea5f-7269-4e1f-8b0c-1e2c04bd84c0",
      "metadata": {},
      "source": [
        "In this notebook, we achieved our goal of Asking a Question in natural language to a dataset located on a SQL Database.  We did this by using purely prompt engineering (Langchain does it for us) and the cognitive power of GPT models.\n",
        "\n",
        "This process shows why it is NOT necessary to move the data from its original source as long as the source has an API and a common language we can use to interface with. LLMs have been trained on the whole public Github corpus, so it can pretty much understand most of the coding and database query languages that exists out there. "
      ]
    }
  ],
  "metadata": {
    "kernel_info": {
      "name": "python310-sdkv2"
    },
    "kernelspec": {
      "display_name": "Python 3.10 - SDK v2",
      "language": "python",
      "name": "python310-sdkv2"
    },
    "language_info": {
      "codemirror_mode": {
        "name": "ipython",
        "version": 3
      },
      "file_extension": ".py",
      "mimetype": "text/x-python",
      "name": "python",
      "nbconvert_exporter": "python",
      "pygments_lexer": "ipython3",
      "version": "3.10.11"
    },
    "microsoft": {
      "ms_spell_check": {
        "ms_spell_check_language": "en"
      }
    },
    "nteract": {
      "version": "nteract-front-end@1.0.0"
    }
  },
  "nbformat": 4,
  "nbformat_minor": 5
}
